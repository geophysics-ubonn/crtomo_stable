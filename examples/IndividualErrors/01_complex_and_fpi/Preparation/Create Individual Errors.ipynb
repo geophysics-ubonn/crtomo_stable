{
 "metadata": {
  "name": "Create Individual Errors"
 },
 "nbformat": 3,
 "nbformat_minor": 0,
 "worksheets": [
  {
   "cells": [
    {
     "cell_type": "code",
     "collapsed": false,
     "input": [
      "volt = np.loadtxt('raw_config.dat', skiprows=1)\n",
      "print volt.shape\n",
      "\n",
      "R = volt[:, 2]\n",
      "phi = volt[:, 3]\n",
      "\n",
      "_ = hist(R, 100)\n",
      "\n",
      "# create some simple errors\n",
      "dR = np.abs(R) * 0.03\n",
      "dZ = dR / R\n",
      "dphi = np.abs(phi) * 0.5\n",
      "\n",
      "# for now don't add a global error\n",
      "global_dZ = 2.0\n",
      "global_dphi = 1.0\n",
      "\n",
      "# write volt.dat with individual errors\n",
      "with open('volt.dat', 'w') as fid:\n",
      "    # header\n",
      "    fid.write('{0} T\\n'.format(volt.shape[0]))\n",
      "    for index in range(0, volt.shape[0]):\n",
      "        fid.write('{0} {1} {2} {3} {4} {5}\\n'.format(int(volt[index, 0]), int(volt[index, 1]),\n",
      "                                                     R[index], phi[index], dZ[index], dphi[index]))\n",
      "    # global magnitude and phase errors (multiplicative)\n",
      "    fid.write('{0} {1}\\n'.format(global_dZ, global_dphi))\n",
      "    "
     ],
     "language": "python",
     "metadata": {},
     "outputs": [
      {
       "output_type": "stream",
       "stream": "stdout",
       "text": [
        "(1122, 4)\n"
       ]
      },
      {
       "output_type": "display_data",
       "png": "[encoded data removed]"
      }
     ],
     "prompt_number": 8
    },
    {
     "cell_type": "code",
     "collapsed": false,
     "input": [],
     "language": "python",
     "metadata": {},
     "outputs": []
    }
   ],
   "metadata": {}
  }
 ]
}